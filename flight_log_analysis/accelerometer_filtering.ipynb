{
 "cells": [
  {
   "cell_type": "markdown",
   "metadata": {},
   "source": [
    "### Installations\n",
    "\n",
    "In order to work through this notebook, you must install pyulog and pandas.\n",
    "\n",
    "+ Install pyulog:\n",
    "~~~~\n",
    "sudo apt-get install python-testresources\n",
    "sudo pip install pyulog\n",
    "~~~~\n",
    "\n",
    "+ Install pandas:\n",
    "~~~~\n",
    "sudo apt-get install python-pandas\n",
    "~~~~\n",
    "\n",
    "### Recording a flight log\n",
    "A new flight log is recorded every time the flight controller is powered on (and are stored when it powered off). To record a new flight log:\n",
    "\n",
    "+ In QGroundControl, click on the \"page and magnifying glass\" symbol in the top left corner. Select **Mavlink Console**.\n",
    "+ To start recording a new flight log, enter `reboot` into the command terminal.\n",
    "+ To stop recording, enter`reboot` into the command terminal again.\n",
    "+ Flight data is logged using the .ulog file format. \n",
    "\n",
    "<div class=\"alert alert-info\">\n",
    "**Note:** Optical flow must be started *after* the first reboot\n",
    "</div>\n",
    "\n",
    "### Accessing a flight log\n",
    "You can access your flight logs (stored as .ulg files) in `/var/lib/mavlink-router/`\n",
    "\n",
    "### Converting .ulg file to .csv file\n",
    "In this nootbook we will work with a pandas dataframe. In order to create a pandas dataframe of flight log data, we must first convert the .ulg file to .csv files (one .ulg file will be split into multiple .csv files, each containing specific flight infomation). This can be done with the following command:\n",
    "~~~~\n",
    "ulog2csv <your-ulg-file>.ulg\n",
    "~~~~\n",
    "\n",
    "+ The unfiltered accelorometer data is stored in the 'sensor_combined' .csv file\n",
    "+ The filtered accelorometer date is stored in the 'estimator_status' .csv file"
   ]
  },
  {
   "cell_type": "code",
   "execution_count": 260,
   "metadata": {},
   "outputs": [],
   "source": [
    "import pandas as pd\n",
    "import numpy as np\n",
    "import scipy.integrate\n",
    "import matplotlib.pyplot as plt"
   ]
  },
  {
   "cell_type": "code",
   "execution_count": 261,
   "metadata": {},
   "outputs": [
    {
     "data": {
      "image/png": "[encoded data removed]",
      "text/plain": [
       "<matplotlib.figure.Figure at 0x7f3e3d3592d0>"
      ]
     },
     "metadata": {},
     "output_type": "display_data"
    }
   ],
   "source": [
    "# Example acceleration data representing constant acceleration over a period of 10 seconds\n",
    "data = [(0, 1), (1, 1), (2, 1), (3, 1), (4, 1), (5, 1), (6, 1), (7, 1), (8, 1), (9, 1), (10, 1)] # (time, accel)\n",
    "\n",
    "times = []\n",
    "accel = []\n",
    "for point in data: \n",
    "    times.append(point[0])\n",
    "    accel.append(point[1])\n",
    "    \n",
    "# Plot acceration vs. time\n",
    "fig,ax = plt.subplots()\n",
    "ax.plot([time for time in times], accel)\n",
    "ax.set_ylabel('acceleration (m/s^2)')\n",
    "ax.set_xlabel('time (sec)')\n",
    "fig.set_size_inches(10,4)"
   ]
  },
  {
   "cell_type": "code",
   "execution_count": 262,
   "metadata": {
    "scrolled": true
   },
   "outputs": [
    {
     "data": {
      "image/png": "[encoded data removed]",
      "text/plain": [
       "<matplotlib.figure.Figure at 0x7f3e3dc16c50>"
      ]
     },
     "metadata": {},
     "output_type": "display_data"
    }
   ],
   "source": [
    "# Integrate acceration to get the drone's velocity at each time\n",
    "vel = scipy.integrate.cumtrapz(accel, x = times, initial = 0)\n",
    "\n",
    "# Plot velocity vs. time\n",
    "fig,ax = plt.subplots()\n",
    "ax.plot([time for time in times], vel)\n",
    "ax.set_ylabel('velocity (m/s)')\n",
    "ax.set_xlabel('time (sec)')\n",
    "fig.set_size_inches(10,4)"
   ]
  },
  {
   "cell_type": "code",
   "execution_count": 263,
   "metadata": {},
   "outputs": [
    {
     "data": {
      "image/png": "[encoded data removed]",
      "text/plain": [
       "<matplotlib.figure.Figure at 0x7f3e3ab5af50>"
      ]
     },
     "metadata": {},
     "output_type": "display_data"
    }
   ],
   "source": [
    "# Integrate velocity to get the drone's position at each time\n",
    "pose = scipy.integrate.cumtrapz(vel, x = times, initial = 0)\n",
    "\n",
    "# Plot position vs. time\n",
    "fig,ax = plt.subplots()\n",
    "ax.plot([time for time in times], pose)\n",
    "ax.set_ylabel('position (m/s)')\n",
    "ax.set_xlabel('time (sec)')\n",
    "fig.set_size_inches(10,4)"
   ]
  },
  {
   "cell_type": "markdown",
   "metadata": {},
   "source": [
    "### Load log data"
   ]
  },
  {
   "cell_type": "markdown",
   "metadata": {},
   "source": [
    "The first data frame we will create contains the accelerations measured by the drone's accelerometer. The columns accelerometer_m_s2[0], accelerometer_m_s2[1], and accelerometer_m_s2[2] contain the accelerations measured in the XYZ body frame (in m/s/s)."
   ]
  },
  {
   "cell_type": "code",
   "execution_count": 264,
   "metadata": {},
   "outputs": [
    {
     "data": {
      "text/html": [
       "<div>\n",
       "<table border=\"1\" class=\"dataframe\">\n",
       "  <thead>\n",
       "    <tr style=\"text-align: right;\">\n",
       "      <th></th>\n",
       "      <th>gyro_rad[0]</th>\n",
       "      <th>gyro_rad[1]</th>\n",
       "      <th>gyro_rad[2]</th>\n",
       "      <th>gyro_integral_dt</th>\n",
       "      <th>accelerometer_timestamp_relative</th>\n",
       "      <th>accelerometer_m_s2[0]</th>\n",
       "      <th>accelerometer_m_s2[1]</th>\n",
       "      <th>accelerometer_m_s2[2]</th>\n",
       "      <th>accelerometer_integral_dt</th>\n",
       "    </tr>\n",
       "    <tr>\n",
       "      <th>timestamp</th>\n",
       "      <th></th>\n",
       "      <th></th>\n",
       "      <th></th>\n",
       "      <th></th>\n",
       "      <th></th>\n",
       "      <th></th>\n",
       "      <th></th>\n",
       "      <th></th>\n",
       "      <th></th>\n",
       "    </tr>\n",
       "  </thead>\n",
       "  <tbody>\n",
       "    <tr>\n",
       "      <th>8585800</th>\n",
       "      <td>0.002580</td>\n",
       "      <td>0.001761</td>\n",
       "      <td>-0.002537</td>\n",
       "      <td>4000</td>\n",
       "      <td>0</td>\n",
       "      <td>0.018584</td>\n",
       "      <td>-0.066590</td>\n",
       "      <td>-9.81707</td>\n",
       "      <td>4000</td>\n",
       "    </tr>\n",
       "    <tr>\n",
       "      <th>8601800</th>\n",
       "      <td>0.001071</td>\n",
       "      <td>0.000474</td>\n",
       "      <td>-0.003062</td>\n",
       "      <td>4001</td>\n",
       "      <td>0</td>\n",
       "      <td>0.016110</td>\n",
       "      <td>-0.049716</td>\n",
       "      <td>-9.78656</td>\n",
       "      <td>4001</td>\n",
       "    </tr>\n",
       "    <tr>\n",
       "      <th>8605799</th>\n",
       "      <td>0.000419</td>\n",
       "      <td>-0.000477</td>\n",
       "      <td>-0.004339</td>\n",
       "      <td>3999</td>\n",
       "      <td>0</td>\n",
       "      <td>0.007050</td>\n",
       "      <td>-0.030636</td>\n",
       "      <td>-9.78350</td>\n",
       "      <td>3999</td>\n",
       "    </tr>\n",
       "    <tr>\n",
       "      <th>8609801</th>\n",
       "      <td>-0.001144</td>\n",
       "      <td>0.000355</td>\n",
       "      <td>-0.001342</td>\n",
       "      <td>4002</td>\n",
       "      <td>0</td>\n",
       "      <td>0.009674</td>\n",
       "      <td>-0.054820</td>\n",
       "      <td>-9.80967</td>\n",
       "      <td>4002</td>\n",
       "    </tr>\n",
       "    <tr>\n",
       "      <th>8613800</th>\n",
       "      <td>-0.001998</td>\n",
       "      <td>-0.000704</td>\n",
       "      <td>-0.001975</td>\n",
       "      <td>3999</td>\n",
       "      <td>0</td>\n",
       "      <td>0.000742</td>\n",
       "      <td>-0.050622</td>\n",
       "      <td>-9.79310</td>\n",
       "      <td>3999</td>\n",
       "    </tr>\n",
       "  </tbody>\n",
       "</table>\n",
       "</div>"
      ],
      "text/plain": [
       "           gyro_rad[0]  gyro_rad[1]  gyro_rad[2]  gyro_integral_dt  \\\n",
       "timestamp                                                            \n",
       "8585800       0.002580     0.001761    -0.002537              4000   \n",
       "8601800       0.001071     0.000474    -0.003062              4001   \n",
       "8605799       0.000419    -0.000477    -0.004339              3999   \n",
       "8609801      -0.001144     0.000355    -0.001342              4002   \n",
       "8613800      -0.001998    -0.000704    -0.001975              3999   \n",
       "\n",
       "           accelerometer_timestamp_relative  accelerometer_m_s2[0]  \\\n",
       "timestamp                                                            \n",
       "8585800                                   0               0.018584   \n",
       "8601800                                   0               0.016110   \n",
       "8605799                                   0               0.007050   \n",
       "8609801                                   0               0.009674   \n",
       "8613800                                   0               0.000742   \n",
       "\n",
       "           accelerometer_m_s2[1]  accelerometer_m_s2[2]  \\\n",
       "timestamp                                                 \n",
       "8585800                -0.066590               -9.81707   \n",
       "8601800                -0.049716               -9.78656   \n",
       "8605799                -0.030636               -9.78350   \n",
       "8609801                -0.054820               -9.80967   \n",
       "8613800                -0.050622               -9.79310   \n",
       "\n",
       "           accelerometer_integral_dt  \n",
       "timestamp                             \n",
       "8585800                         4000  \n",
       "8601800                         4001  \n",
       "8605799                         3999  \n",
       "8609801                         4002  \n",
       "8613800                         3999  "
      ]
     },
     "execution_count": 264,
     "metadata": {},
     "output_type": "execute_result"
    }
   ],
   "source": [
    "# Load sensor data as a pandas data frame\n",
    "sensor_data = pd.DataFrame.from_csv('<your-sensor_combined_0.csv')\n",
    "sensor_data.head()"
   ]
  },
  {
   "cell_type": "markdown",
   "metadata": {},
   "source": [
    "The second data frame we will create contains state estimation data that has been filtered by an algorithm called the Extended Kalman Filter (EKF). The EKF processes sensor measurements from multiple sources (IMU, magnitometer, range finder, optical flow, etc.) and blends them together to get a much more accurate estimation of the drone's state. The columns states[4], states[5], and states[6] contain the velocities in the NED frame (in m/s)."
   ]
  },
  {
   "cell_type": "code",
   "execution_count": 265,
   "metadata": {
    "scrolled": true
   },
   "outputs": [
    {
     "data": {
      "text/html": [
       "<div>\n",
       "<table border=\"1\" class=\"dataframe\">\n",
       "  <thead>\n",
       "    <tr style=\"text-align: right;\">\n",
       "      <th></th>\n",
       "      <th>states[0]</th>\n",
       "      <th>states[1]</th>\n",
       "      <th>states[2]</th>\n",
       "      <th>states[3]</th>\n",
       "      <th>states[4]</th>\n",
       "      <th>states[5]</th>\n",
       "      <th>states[6]</th>\n",
       "      <th>states[7]</th>\n",
       "      <th>states[8]</th>\n",
       "      <th>states[9]</th>\n",
       "      <th>...</th>\n",
       "      <th>beta_test_ratio</th>\n",
       "      <th>time_slip</th>\n",
       "      <th>gps_check_fail_flags</th>\n",
       "      <th>filter_fault_flags</th>\n",
       "      <th>innovation_check_flags</th>\n",
       "      <th>solution_status_flags</th>\n",
       "      <th>nan_flags</th>\n",
       "      <th>health_flags</th>\n",
       "      <th>timeout_flags</th>\n",
       "      <th>pre_flt_fail</th>\n",
       "    </tr>\n",
       "    <tr>\n",
       "      <th>timestamp</th>\n",
       "      <th></th>\n",
       "      <th></th>\n",
       "      <th></th>\n",
       "      <th></th>\n",
       "      <th></th>\n",
       "      <th></th>\n",
       "      <th></th>\n",
       "      <th></th>\n",
       "      <th></th>\n",
       "      <th></th>\n",
       "      <th></th>\n",
       "      <th></th>\n",
       "      <th></th>\n",
       "      <th></th>\n",
       "      <th></th>\n",
       "      <th></th>\n",
       "      <th></th>\n",
       "      <th></th>\n",
       "      <th></th>\n",
       "      <th></th>\n",
       "      <th></th>\n",
       "    </tr>\n",
       "  </thead>\n",
       "  <tbody>\n",
       "    <tr>\n",
       "      <th>8586162</th>\n",
       "      <td>0.896888</td>\n",
       "      <td>0.002216</td>\n",
       "      <td>0.001423</td>\n",
       "      <td>0.442250</td>\n",
       "      <td>-0.001799</td>\n",
       "      <td>0.002137</td>\n",
       "      <td>0.000238</td>\n",
       "      <td>-0.000166</td>\n",
       "      <td>0.000428</td>\n",
       "      <td>-0.000146</td>\n",
       "      <td>...</td>\n",
       "      <td>0</td>\n",
       "      <td>-0.000128</td>\n",
       "      <td>0</td>\n",
       "      <td>0</td>\n",
       "      <td>0</td>\n",
       "      <td>229</td>\n",
       "      <td>0</td>\n",
       "      <td>0</td>\n",
       "      <td>0</td>\n",
       "      <td>0</td>\n",
       "    </tr>\n",
       "    <tr>\n",
       "      <th>8786208</th>\n",
       "      <td>0.896935</td>\n",
       "      <td>0.002226</td>\n",
       "      <td>0.001405</td>\n",
       "      <td>0.442155</td>\n",
       "      <td>-0.001332</td>\n",
       "      <td>0.002791</td>\n",
       "      <td>0.001393</td>\n",
       "      <td>-0.000300</td>\n",
       "      <td>0.000593</td>\n",
       "      <td>0.000113</td>\n",
       "      <td>...</td>\n",
       "      <td>0</td>\n",
       "      <td>-0.000081</td>\n",
       "      <td>0</td>\n",
       "      <td>0</td>\n",
       "      <td>0</td>\n",
       "      <td>229</td>\n",
       "      <td>0</td>\n",
       "      <td>0</td>\n",
       "      <td>0</td>\n",
       "      <td>0</td>\n",
       "    </tr>\n",
       "    <tr>\n",
       "      <th>8991915</th>\n",
       "      <td>0.896975</td>\n",
       "      <td>0.002247</td>\n",
       "      <td>0.001437</td>\n",
       "      <td>0.442074</td>\n",
       "      <td>-0.000757</td>\n",
       "      <td>0.003815</td>\n",
       "      <td>0.002098</td>\n",
       "      <td>-0.000346</td>\n",
       "      <td>0.000888</td>\n",
       "      <td>0.000352</td>\n",
       "      <td>...</td>\n",
       "      <td>0</td>\n",
       "      <td>0.000026</td>\n",
       "      <td>0</td>\n",
       "      <td>0</td>\n",
       "      <td>0</td>\n",
       "      <td>229</td>\n",
       "      <td>0</td>\n",
       "      <td>0</td>\n",
       "      <td>0</td>\n",
       "      <td>0</td>\n",
       "    </tr>\n",
       "    <tr>\n",
       "      <th>9191900</th>\n",
       "      <td>0.896738</td>\n",
       "      <td>0.002270</td>\n",
       "      <td>0.001444</td>\n",
       "      <td>0.442554</td>\n",
       "      <td>-0.000278</td>\n",
       "      <td>0.004634</td>\n",
       "      <td>0.001602</td>\n",
       "      <td>-0.000298</td>\n",
       "      <td>0.001126</td>\n",
       "      <td>0.000510</td>\n",
       "      <td>...</td>\n",
       "      <td>0</td>\n",
       "      <td>0.000011</td>\n",
       "      <td>0</td>\n",
       "      <td>0</td>\n",
       "      <td>0</td>\n",
       "      <td>229</td>\n",
       "      <td>0</td>\n",
       "      <td>0</td>\n",
       "      <td>0</td>\n",
       "      <td>0</td>\n",
       "    </tr>\n",
       "    <tr>\n",
       "      <th>9395864</th>\n",
       "      <td>0.896638</td>\n",
       "      <td>0.002209</td>\n",
       "      <td>0.001472</td>\n",
       "      <td>0.442756</td>\n",
       "      <td>0.000365</td>\n",
       "      <td>0.004794</td>\n",
       "      <td>0.001452</td>\n",
       "      <td>-0.000185</td>\n",
       "      <td>0.001471</td>\n",
       "      <td>0.000576</td>\n",
       "      <td>...</td>\n",
       "      <td>0</td>\n",
       "      <td>-0.000026</td>\n",
       "      <td>0</td>\n",
       "      <td>0</td>\n",
       "      <td>0</td>\n",
       "      <td>229</td>\n",
       "      <td>0</td>\n",
       "      <td>0</td>\n",
       "      <td>0</td>\n",
       "      <td>0</td>\n",
       "    </tr>\n",
       "  </tbody>\n",
       "</table>\n",
       "<p>5 rows × 71 columns</p>\n",
       "</div>"
      ],
      "text/plain": [
       "           states[0]  states[1]  states[2]  states[3]  states[4]  states[5]  \\\n",
       "timestamp                                                                     \n",
       "8586162     0.896888   0.002216   0.001423   0.442250  -0.001799   0.002137   \n",
       "8786208     0.896935   0.002226   0.001405   0.442155  -0.001332   0.002791   \n",
       "8991915     0.896975   0.002247   0.001437   0.442074  -0.000757   0.003815   \n",
       "9191900     0.896738   0.002270   0.001444   0.442554  -0.000278   0.004634   \n",
       "9395864     0.896638   0.002209   0.001472   0.442756   0.000365   0.004794   \n",
       "\n",
       "           states[6]  states[7]  states[8]  states[9]      ...       \\\n",
       "timestamp                                                  ...        \n",
       "8586162     0.000238  -0.000166   0.000428  -0.000146      ...        \n",
       "8786208     0.001393  -0.000300   0.000593   0.000113      ...        \n",
       "8991915     0.002098  -0.000346   0.000888   0.000352      ...        \n",
       "9191900     0.001602  -0.000298   0.001126   0.000510      ...        \n",
       "9395864     0.001452  -0.000185   0.001471   0.000576      ...        \n",
       "\n",
       "           beta_test_ratio  time_slip  gps_check_fail_flags  \\\n",
       "timestamp                                                     \n",
       "8586162                  0  -0.000128                     0   \n",
       "8786208                  0  -0.000081                     0   \n",
       "8991915                  0   0.000026                     0   \n",
       "9191900                  0   0.000011                     0   \n",
       "9395864                  0  -0.000026                     0   \n",
       "\n",
       "           filter_fault_flags  innovation_check_flags  solution_status_flags  \\\n",
       "timestamp                                                                      \n",
       "8586162                     0                       0                    229   \n",
       "8786208                     0                       0                    229   \n",
       "8991915                     0                       0                    229   \n",
       "9191900                     0                       0                    229   \n",
       "9395864                     0                       0                    229   \n",
       "\n",
       "           nan_flags  health_flags  timeout_flags  pre_flt_fail  \n",
       "timestamp                                                        \n",
       "8586162            0             0              0             0  \n",
       "8786208            0             0              0             0  \n",
       "8991915            0             0              0             0  \n",
       "9191900            0             0              0             0  \n",
       "9395864            0             0              0             0  \n",
       "\n",
       "[5 rows x 71 columns]"
      ]
     },
     "execution_count": 265,
     "metadata": {},
     "output_type": "execute_result"
    }
   ],
   "source": [
    "# Load EKF data as a pandas data frame\n",
    "ekf_data = pd.DataFrame.from_csv('<your-estimator_status_0.csv')\n",
    "ekf_data.head()"
   ]
  },
  {
   "cell_type": "markdown",
   "metadata": {},
   "source": [
    "### Filter the accelerometer data"
   ]
  },
  {
   "cell_type": "code",
   "execution_count": 266,
   "metadata": {},
   "outputs": [
    {
     "data": {
      "image/png": "[encoded data removed]",
      "text/plain": [
       "<matplotlib.figure.Figure at 0x7f3e3ce46e50>"
      ]
     },
     "metadata": {},
     "output_type": "display_data"
    }
   ],
   "source": [
    "# Acceleration data in the XYZ body frame (m/s/s)\n",
    "accel_x = sensor_data['accelerometer_m_s2[0]'].tolist()\n",
    "accel_y = sensor_data['accelerometer_m_s2[1]'].tolist()\n",
    "accel_z = sensor_data['accelerometer_m_s2[2]'].tolist()\n",
    "\n",
    "def get_times(timestamps):\n",
    "    \"\"\"\n",
    "    Given a list of timestamps (in microseconds), returns a list of times (in seconds) starting at t = 0.\n",
    "    \n",
    "        Args:\n",
    "            - timestamps = list of timestamps (microseconds)\n",
    "            \n",
    "        Returns: list of times (seconds) \n",
    "    \"\"\"\n",
    "    start = timestamps[0]\n",
    "    k = 1.0/1000000\n",
    "    times = []\n",
    "    for timestamp in timestamps:\n",
    "        time = k * (timestamp - start)\n",
    "        times.append(time)\n",
    "    return times\n",
    "\n",
    "# Convert timestamps into a list of times (in sec) starting at t = 0.\n",
    "sensor_times = get_times(sensor_data.index.tolist())\n",
    "\n",
    "# Plot acceleration vs. time (we will only plot acceleration in the x direction)\n",
    "fig,ax = plt.subplots()\n",
    "ax.plot([time for time in sensor_times], accel_x)\n",
    "ax.set_ylabel('accel_x (m/s^2)')\n",
    "ax.set_xlabel('time (sec)')\n",
    "fig.set_size_inches(10,4)"
   ]
  },
  {
   "cell_type": "code",
   "execution_count": 267,
   "metadata": {},
   "outputs": [
    {
     "data": {
      "image/png": "[encoded data removed]",
      "text/plain": [
       "<matplotlib.figure.Figure at 0x7f3e3ad3b950>"
      ]
     },
     "metadata": {},
     "output_type": "display_data"
    }
   ],
   "source": [
    "# Low pass filter example (not used)\n",
    "def low_pass_filter(sequence, windowsize):\n",
    "    positions = len(sequence) - windowsize + 1\n",
    "    windows = []\n",
    "    for i in range(positions):\n",
    "        window = np.array(sequence[i:i+windowsize])\n",
    "        mean = window.mean()\n",
    "        windows.append(mean)\n",
    "    return np.array(windows)\n",
    "\n",
    "# Apply a low pass filter to the accelerometer data\n",
    "windowsize = 200\n",
    "lp_accel_x = np.convolve(accel_x, np.ones((windowsize,))/windowsize, mode='same')\n",
    "lp_accel_y = np.convolve(accel_y, np.ones((windowsize,))/windowsize, mode='same')\n",
    "lp_accel_z = np.convolve(accel_z, np.ones((windowsize,))/windowsize, mode='same')\n",
    "\n",
    "# Plot lpf acceleration vs. time (we will only plot acceleration in the x direction)\n",
    "fig,ax = plt.subplots()\n",
    "ax.plot([time for time in sensor_times], lp_accel_x)\n",
    "ax.set_ylabel('lp_accel_x (m/s^2)')\n",
    "ax.set_xlabel('time (sec)')\n",
    "fig.set_size_inches(10,4)"
   ]
  },
  {
   "cell_type": "markdown",
   "metadata": {},
   "source": [
    "### Calculate change in position"
   ]
  },
  {
   "cell_type": "code",
   "execution_count": 268,
   "metadata": {},
   "outputs": [
    {
     "data": {
      "image/png": "[encoded data removed]",
      "text/plain": [
       "<matplotlib.figure.Figure at 0x7f3e3b0ed090>"
      ]
     },
     "metadata": {},
     "output_type": "display_data"
    }
   ],
   "source": [
    "# Integrate acceration to get the drone's velocity at each time\n",
    "lp_vel_x = scipy.integrate.cumtrapz(lp_accel_x, sensor_times, initial = 0)\n",
    "lp_vel_y = scipy.integrate.cumtrapz(lp_accel_y, sensor_times, initial = 0)\n",
    "lp_vel_z = scipy.integrate.cumtrapz(lp_accel_z, sensor_times, initial = 0)\n",
    "\n",
    "# Integrate velocity to get the drone's position at each time\n",
    "lp_pose_x = scipy.integrate.cumtrapz(lp_vel_x, sensor_times, initial = 0)\n",
    "lp_pose_y = scipy.integrate.cumtrapz(lp_vel_y, sensor_times, initial = 0)\n",
    "lp_pose_z = scipy.integrate.cumtrapz(lp_vel_z, sensor_times, initial = 0)\n",
    "\n",
    "# Plot position vs. time (we will only plot acceleration in the x direction)\n",
    "fig,ax = plt.subplots()\n",
    "ax.plot([time for time in sensor_times], lp_pose_x)\n",
    "ax.set_ylabel('lp_pose_x (meters)')\n",
    "ax.set_xlabel('time (sec)')\n",
    "fig.set_size_inches(10,4)"
   ]
  },
  {
   "cell_type": "code",
   "execution_count": 269,
   "metadata": {},
   "outputs": [
    {
     "data": {
      "image/png": "[encoded data removed]",
      "text/plain": [
       "<matplotlib.figure.Figure at 0x7f3e3b0e7210>"
      ]
     },
     "metadata": {},
     "output_type": "display_data"
    }
   ],
   "source": [
    "# EKF velocity data in the NED frame (m/s)\n",
    "ekf_vel_x = ekf_data['states[4]'].tolist()\n",
    "ekf_vel_y = ekf_data['states[5]'].tolist()\n",
    "ekf_vel_z = ekf_data['states[6]'].tolist()\n",
    "\n",
    "# Convert timestamps into a list of times (in sec) starting at t = 0.\n",
    "ekf_times = get_times(ekf_data.index.tolist())\n",
    "\n",
    "# Integrate EKF velocity to get the drone's position at each time\n",
    "ekf_pose_x = scipy.integrate.cumtrapz(ekf_vel_x, ekf_times, initial = 0)\n",
    "ekf_pose_y = scipy.integrate.cumtrapz(ekf_vel_y, ekf_times, initial = 0)\n",
    "ekf_pose_z = scipy.integrate.cumtrapz(ekf_vel_z, ekf_times, initial = 0)\n",
    "\n",
    "# Plot position vs. time (we will only plot acceleration in the x direction)\n",
    "fig,ax = plt.subplots()\n",
    "ax.plot([time for time in ekf_times], ekf_pose_x)\n",
    "ax.set_ylabel('ekf_pose_x (meters)')\n",
    "ax.set_xlabel('time (sec)')\n",
    "fig.set_size_inches(10,4)"
   ]
  },
  {
   "cell_type": "markdown",
   "metadata": {},
   "source": [
    "### Calculate the total change in position in the XY plane"
   ]
  },
  {
   "cell_type": "code",
   "execution_count": 270,
   "metadata": {},
   "outputs": [
    {
     "name": "stdout",
     "output_type": "stream",
     "text": [
      "lp: [3.3439469297526188, -16.924124750707787], magnitude = 17.2513182003\n",
      "efk: [0.13572311271304097, 0.074065021640506018], magnitude = 0.154616916135\n"
     ]
    }
   ],
   "source": [
    "# Translation vector calculated from the lpf accelerometer data (in XY plane)\n",
    "lp_vector_xy = [lp_pose_x[-1], lp_pose_y[-1]]\n",
    "\n",
    "# Translation vector calculated from the ekf velocity data (in XY plane)\n",
    "ekf_vector_xy = [ekf_pose_x[-1], ekf_pose_y[-1]]\n",
    "\n",
    "def magnitude(vector):\n",
    "    \"\"\"\n",
    "    Given a vector, returns its magnitude (aka norm).\n",
    "        \n",
    "        Args:\n",
    "            - vector: list (arbitrary length)\n",
    "            \n",
    "        Returns: ||vector||\n",
    "    \"\"\"\n",
    "    if vector == []:\n",
    "        return None\n",
    "    total = 0\n",
    "    for component in vector:\n",
    "        total += component**2\n",
    "    return total**0.5\n",
    "\n",
    "print('lp: ' + str(lp_vector_xy) + ', magnitude = ' + str(magnitude(lp_vector_xy)))\n",
    "print('efk: ' + str(ekf_vector_xy) + ', magnitude = ' + str(magnitude(ekf_vector_xy)))\n"
   ]
  }
 ],
 "metadata": {
  "kernelspec": {
   "display_name": "Python 2",
   "language": "python",
   "name": "python2"
  },
  "language_info": {
   "codemirror_mode": {
    "name": "ipython",
    "version": 2
   },
   "file_extension": ".py",
   "mimetype": "text/x-python",
   "name": "python",
   "nbconvert_exporter": "python",
   "pygments_lexer": "ipython2",
   "version": "2.7.12"
  }
 },
 "nbformat": 4,
 "nbformat_minor": 2
}
